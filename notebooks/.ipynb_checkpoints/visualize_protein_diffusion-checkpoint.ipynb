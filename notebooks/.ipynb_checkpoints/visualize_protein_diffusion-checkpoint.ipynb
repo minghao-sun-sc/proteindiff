{
    "cells": [
     {
      "cell_type": "markdown",
      "metadata": {},
      "source": [
       "# Protein Structure Diffusion Process Visualization\n",
       "\n",
       "This notebook demonstrates how to visualize the diffusion process for protein structure prediction. We'll see how the model progressively denoises a random initialization into a protein structure."
      ]
     },
     {
      "cell_type": "code",
      "execution_count": null,
      "metadata": {},
      "source": [
       "import os\n",
       "import sys\n",
       "import torch\n",
       "import numpy as np\n",
       "from IPython.display import display\n",
       "import matplotlib.pyplot as plt\n",
       "from tqdm.notebook import tqdm\n",
       "\n",
       "# Add the project root directory to the path\n",
       "project_root = os.path.abspath(os.path.join(os.getcwd(), '..'))\n",
       "if project_root not in sys.path:\n",
       "    sys.path.append(project_root)\n",
       "\n",
       "from src.data_utils import one_hot_encode_sequence, save_protein_structure\n",
       "from src.model import ProteinDenoiser\n",
       "from src.diffusion import ProteinDiffusion\n",
       "from scripts.visualize_diffusion import visualize_denoising_process, create_denoising_animation"
      ]
     },
     {
      "cell_type": "markdown",
      "metadata": {},
      "source": [
       "## 1. Set Up Model\n",
       "\n",
       "First, we'll load a pre-trained diffusion model."
      ]
     },
     {
      "cell_type": "code",
      "execution_count": null,
      "metadata": {},
      "source": [
       "# Model parameters\n",
       "n_timesteps = 1000\n",
       "hidden_dim = 256\n",
       "n_layers = 8\n",
       "device = torch.device('cuda' if torch.cuda.is_available() else 'cpu')\n",
       "\n",
       "# Path to checkpoint\n",
       "checkpoint_path = '../models/proteindiff_epoch_50.pt'  # Change this to your checkpoint path\n",
       "\n",
       "# Create model\n",
       "hidden_dims = [hidden_dim] * n_layers\n",
       "model = ProteinDenoiser(\n",
       "    hidden_dims=hidden_dims,\n",
       "    diffusion_time_embedding_dim=hidden_dim,\n",
       "    n_times=n_timesteps\n",
       ").to(device)\n",
       "\n",
       "protein_diffusion = ProteinDiffusion(\n",
       "    model, \n",
       "    n_times=n_timesteps,\n",
       "    beta_minmax=[1e-4, 2e-2],\n",
       "    device=device\n",
       ").to(device)\n",
       "\n",
       "# Load checkpoint\n",
       "checkpoint = torch.load(checkpoint_path, map_location=device)\n",
       "protein_diffusion.load_state_dict(checkpoint['model_state_dict'])\n",
       "print(f\"Loaded checkpoint from epoch {checkpoint['epoch']+1}\")"
      ]
     },
     {
      "cell_type": "markdown",
      "metadata": {},
      "source": [
       "## 2. Define a Protein Sequence\n",
       "\n",
       "Let's define a protein sequence to visualize the diffusion process."
      ]
     },
     {
      "cell_type": "code",
      "execution_count": null,
      "metadata": {},
      "source": [
       "# Example sequence - Crambin (a small protein)\n",
       "sequence = \"TTCCPSIVARSNFNVCRLPGTPEAICATYTGCIIIPGATCPGDYAN\"\n",
       "\n",
       "# For visualization purposes, using a shorter sequence might be clearer\n",
       "# Uncomment this for a shorter sequence\n",
       "# sequence = sequence[:25]  # Just use the first 25 residues\n",
       "\n",
       "print(f\"Sequence length: {len(sequence)}\")\n",
       "print(f\"Sequence: {sequence}\")"
      ]
     },
     {
      "cell_type": "markdown",
      "metadata": {},
      "source": [
       "## 3. Visualize the Diffusion Process\n",
       "\n",
       "Now we'll visualize the denoising process at various timesteps."
      ]
     },
     {
      "cell_type": "code",
      "execution_count": null,
      "metadata": {},
      "source": [
       "# Choose specific timesteps to visualize\n",
       "timesteps_to_visualize = [1000, 900, 800, 700, 600, 500, 400, 300, 200, 100, 50, 25, 0]\n",
       "\n",
       "# Visualize the denoising process\n",
       "output_dir = \"diffusion_visualizations\"\n",
       "structures, pdb_files, visualizations = visualize_denoising_process(\n",
       "    protein_diffusion,\n",
       "    sequence,\n",
       "    device,\n",
       "    timesteps_to_save=timesteps_to_visualize,\n",
       "    output_dir=output_dir\n",
       ")"
      ]
     },
     {
      "cell_type": "markdown",
      "metadata": {},
      "source": [
       "## 4. Create Animation\n",
       "\n",
       "Let's create an animation of the diffusion process."
      ]
     },
     {
      "cell_type": "code",
      "execution_count": null,
      "metadata": {},
      "source": [
       "# Create and display the animation\n",
       "animation_file = os.path.join(output_dir, \"diffusion_animation.gif\")\n",
       "create_denoising_animation(structures, sequence, animation_file, fps=2)\n",
       "\n",
       "# Display the animation\n",
       "from IPython.display import Image\n",
       "display(Image(filename=animation_file))"
      ]
     },
     {
      "cell_type": "markdown",
      "metadata": {},
      "source": [
       "## 5. Visualize Individual Structures\n",
       "\n",
       "Let's take a closer look at some specific timesteps."
      ]
     },
     {
      "cell_type": "code",
      "execution_count": null,
      "metadata": {},
      "source": [
       "import py3Dmol\n",
       "\n",
       "# Let's compare the initial noise (t=1000), middle (t=500) and final structure (t=0)\n",
       "for timestep in [1000, 500, 0]:\n",
       "    pdb_file = os.path.join(output_dir, f\"structure_timestep_{timestep}.pdb\")\n",
       "    \n",
       "    with open(pdb_file) as f:\n",
       "        pdb_data = f.read()\n",
       "    \n",
       "    view = py3Dmol.view(width=600, height=400)\n",
       "    view.addModel(pdb_data, 'pdb')\n",
       "    view.setStyle({'cartoon': {'color': 'spectrum'}})\n",
       "    view.zoomTo()\n",
       "    \n",
       "    progress_percent = (n_timesteps - 1 - timestep) / (n_timesteps - 1) * 100\n",
       "    print(f\"\\nTimestep: {timestep} (Progress: {progress_percent:.1f}%)\")\n",
       "    display(view.show())"
      ]
     },
     {
      "cell_type": "markdown",
      "metadata": {},
      "source": [
       "## 6. Compare the Full Denoising Sequence\n",
       "\n",
       "We can also arrange all the structures side by side to see the full progression."
      ]
     },
     {
      "cell_type": "code",
      "execution_count": null,
      "metadata": {},
      "source": [
       "# Create a grid of visualizations\n",
       "from ipywidgets import HBox, VBox, Label\n",
       "\n",
       "rows = []\n",
       "num_cols = 3  # Number of visualizations per row\n",
       "\n",
       "# Sort timesteps in descending order\n",
       "sorted_timesteps = sorted([t for t, _ in visualizations], reverse=True)\n",
       "\n",
       "# Create rows of visualizations\n",
       "current_row = []\n",
       "for timestep in sorted_timesteps:\n",
       "    # Find the visualization for this timestep\n",
       "    for t, vis in visualizations:\n",
       "        if t == timestep:\n",
       "            progress_percent = (n_timesteps - 1 - t) / (n_timesteps - 1) * 100\n",
       "            label = Label(f\"t={t} ({progress_percent:.1f}%)\")\n",
       "            current_row.append(VBox([label, vis.show()]))\n",
       "            break\n",
       "    \n",
       "    if len(current_row) == num_cols:\n",
       "        rows.append(HBox(current_row))\n",
       "        current_row = []\n",
       "\n",
       "# Add the last row if not empty\n",
       "if current_row:\n",
       "    rows.append(HBox(current_row))\n",
       "\n",
       "# Display all rows\n",
       "display(VBox(rows))"
      ]
     },
     {
      "cell_type": "markdown",
      "metadata": {},
      "source": [
       "## 7. Plot RMSD Changes During Diffusion\n",
       "\n",
       "Let's analyze how much the structure changes at each step of the diffusion process by calculating the RMSD between consecutive frames."
      ]
     },
     {
      "cell_type": "code",
      "execution_count": null,
      "metadata": {},
      "source": [
       "from scipy.spatial.distance import cdist\n",
       "\n",
       "def calculate_rmsd(coords1, coords2):\n",
       "    \"\"\"Calculate RMSD between two coordinate sets\"\"\"\n",
       "    # Get only CA atoms (index 1 in our representation)\n",
       "    ca1 = coords1[:, 1, :].numpy()\n",
       "    ca2 = coords2[:, 1, :].numpy()\n",
       "    \n",
       "    # Calculate RMSD\n",
       "    squared_diff = np.sum((ca1 - ca2) ** 2, axis=1)\n",
       "    rmsd = np.sqrt(np.mean(squared_diff))\n",
       "    return rmsd\n",
       "\n",
       "# Calculate RMSD between consecutive frames\n",
       "rmsds = []\n",
       "timesteps = []\n",
       "\n",
       "sorted_timesteps = sorted(structures.keys())\n",
       "for i in range(1, len(sorted_timesteps)):\n",
       "    t_prev = sorted_timesteps[i-1]\n",
       "    t_curr = sorted_timesteps[i]\n",
       "    rmsd = calculate_rmsd(structures[t_prev], structures[t_curr])\n",
       "    rmsds.append(rmsd)\n",
       "    timesteps.append(t_curr)\n",
       "\n",
       "# Plot RMSD changes\n",
       "plt.figure(figsize=(12, 6))\n",
       "plt.plot(timesteps, rmsds, 'o-')\n",
       "plt.title('RMSD Changes During Diffusion Process')\n",
       "plt.xlabel('Timestep')\n",
       "plt.ylabel('RMSD (Å) between consecutive frames')\n",
       "plt.grid(True)\n",
       "plt.show()\n",
       "\n",
       "# Plot RMSD changes with log scale for better visualization of early steps\n",
       "plt.figure(figsize=(12, 6))\n",
       "plt.semilogx(timesteps, rmsds, 'o-')\n",
       "plt.title('RMSD Changes During Diffusion Process (Log Scale)')\n",
       "plt.xlabel('Timestep (log scale)')\n",
       "plt.ylabel('RMSD (Å) between consecutive frames')\n",
       "plt.grid(True)\n",
       "plt.show()"
      ]
     }
    ],
    "metadata": {
     "kernelspec": {
      "display_name": "Python 3",
      "language": "python",
      "name": "python3"
     },
     "language_info": {
      "codemirror_mode": {
       "name": "ipython",
       "version": 3
      },
      "file_extension": ".py",
      "mimetype": "text/x-python",
      "name": "python",
      "nbconvert_exporter": "python",
      "pygments_lexer": "ipython3",
      "version": "3.10.11"
     }
    },
    "nbformat": 4,
    "nbformat_minor": 4
   }